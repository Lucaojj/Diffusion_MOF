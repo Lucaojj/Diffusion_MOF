{
 "cells": [
  {
   "cell_type": "code",
   "execution_count": 4,
   "id": "458335da",
   "metadata": {},
   "outputs": [
    {
     "name": "stdout",
     "output_type": "stream",
     "text": [
      "The autoreload extension is already loaded. To reload it, use:\n",
      "  %reload_ext autoreload\n"
     ]
    }
   ],
   "source": [
    "import os\n",
    "os.chdir('/home/lucasperea/Documents/Diffusion_MOF/')\n",
    "from PyFiles.cell_location_func import CellLocation\n",
    "from PyFiles.back_pedal_func import backpedal\n",
    "from PyFiles.distance_func import distance\n",
    "from PyFiles.transf_matrix_func import TransfMatrix\n",
    "from PyFiles.pagerank_parameter_func import PageRankParameter\n",
    "from PyFiles.dijkstra_func import dijkstra\n",
    "from PyFiles.graph_multicell_func import GraphMultiCell\n",
    "from PyFiles.graph_cell_func import GraphCell\n",
    "import concurrent.futures\n",
    "import numpy as np\n",
    "%load_ext autoreload\n",
    "%autoreload 2\n"
   ]
  },
  {
   "cell_type": "code",
   "execution_count": 28,
   "id": "aac812a9",
   "metadata": {},
   "outputs": [],
   "source": []
  },
  {
   "cell_type": "code",
   "execution_count": 6,
   "id": "d9be09ee",
   "metadata": {},
   "outputs": [
    {
     "data": {
      "text/plain": [
       "['back_pedal_func.py',\n",
       " 'distance_func.py',\n",
       " 'transf_matrix_func.py',\n",
       " 'pagerank_parameter_func.py',\n",
       " 'dijkstra_func.py',\n",
       " 'cell_location_func.py',\n",
       " 'graph_multicell_func.py',\n",
       " 'graph_cell_func.py']"
      ]
     },
     "execution_count": 6,
     "metadata": {},
     "output_type": "execute_result"
    }
   ],
   "source": [
    "os.listdir(os.getcwd() + '/PyFiles')"
   ]
  },
  {
   "cell_type": "code",
   "execution_count": 61,
   "id": "21299a6d",
   "metadata": {},
   "outputs": [],
   "source": [
    "# \n",
    "# for file in os.listdir('./Nt2Files_MOF/')[186:]:\n",
    "def caudal(file):\n",
    "    import numpy as np\n",
    "    path_dic = {}\n",
    "    nt2_name = file\n",
    "\n",
    "\n",
    "    vector_pos, vector_ort, pos_order, twentysix_faces_neigh, vector_values_latt = CellLocation(nt2_name)\n",
    "    G, connection_cell, larger_node_dic = GraphCell(nt2_name, pos_order)\n",
    "\n",
    "    final, key_plus = GraphMultiCell(G, vector_pos, vector_ort, pos_order, connection_cell, twentysix_faces_neigh)\n",
    "    Y, Y1 = TransfMatrix(vector_values_latt)\n",
    "    final2 = distance(final,3, Y, Y1)\n",
    "\n",
    "\n",
    "\n",
    "    neigh_dic = {}\n",
    "    for n, nbrs in final2.adj.items():\n",
    "        neigh = []\n",
    "        for nbr, eattr in nbrs.items():\n",
    "            neigh.append(nbr)\n",
    "\n",
    "\n",
    "        neigh_dic[str(n)] = neigh\n",
    "\n",
    "  \n",
    "    special_list = list(range(13))\n",
    "\n",
    "    larger_node = []\n",
    "    name_larger_node = []\n",
    "    for node in final2.nodes:\n",
    "        larger_node.append(final.nodes[node]['rad_max_sph'])\n",
    "        name_larger_node.append(node)\n",
    "\n",
    "    node_largest = name_larger_node[np.argmax(larger_node)]\n",
    "    node_smallest = name_larger_node[np.argmin(larger_node)]\n",
    "    node_path = node_largest #mat_pr_dic[nt2_name.split('.')[0]]\n",
    "    \n",
    "    results = []\n",
    "   \n",
    "    for i in range(13):\n",
    "        parents = {}\n",
    "        \n",
    "        start = node_path + key_plus*i\n",
    "\n",
    "        target = key_plus*pos_order['000'] + node_path\n",
    "\n",
    "        path, total_distance, total_volume = dijkstra(start, target, parents, final2, 0, neigh_dic)\n",
    "        print(total_volume/total_distance, i)\n",
    "        results.append(total_volume/total_distance)\n",
    "    \n",
    "#         all_path.append(path)\n",
    "\n",
    "    \n",
    "    path_dic_mat = {}\n",
    "\n",
    "    for j in range(len(list(pos_order.keys())[0:13])):\n",
    "        path_dic_mat[str(list(pos_order.keys())[j])] = round(results[j], 2)\n",
    "\n",
    "    \n",
    "    path_dic[nt2_name.split('.')[0]] = path_dic_mat\n",
    "    print(nt2_name)\n",
    "    return path_dic"
   ]
  },
  {
   "cell_type": "code",
   "execution_count": 6,
   "id": "a5f401b3",
   "metadata": {},
   "outputs": [],
   "source": [
    "def GraphGen(file):\n",
    "    \n",
    "    path_dic = {}\n",
    "    nt2_name = file\n",
    "\n",
    "\n",
    "    vector_pos, vector_ort, pos_order, twentysix_faces_neigh, vector_values_latt = CellLocation(nt2_name)\n",
    "    G, connection_cell, larger_node_dic = GraphCell(nt2_name, pos_order)\n",
    "\n",
    "    final, key_plus = GraphMultiCell(G, vector_pos, vector_ort, pos_order, connection_cell, twentysix_faces_neigh)\n",
    "    Y, Y1 = TransfMatrix(vector_values_latt)\n",
    "    final2 = distance(final,3, Y, Y1)\n",
    "    return file,final2"
   ]
  },
  {
   "cell_type": "code",
   "execution_count": null,
   "id": "605776d2",
   "metadata": {},
   "outputs": [
    {
     "name": "stderr",
     "output_type": "stream",
     "text": [
      "/home/lucasperea/anaconda3/envs/imdea/lib/python3.10/site-packages/pymatgen/io/cif.py:1164: UserWarning: Issues encountered while parsing CIF: Some fractional co-ordinates rounded to ideal values to avoid issues with finite precision.\n",
      "  warnings.warn(\"Issues encountered while parsing CIF: %s\" % \"\\n\".join(self.warnings))\n",
      "/home/lucasperea/anaconda3/envs/imdea/lib/python3.10/site-packages/pymatgen/io/cif.py:1164: UserWarning: Issues encountered while parsing CIF: Some fractional co-ordinates rounded to ideal values to avoid issues with finite precision.\n",
      "  warnings.warn(\"Issues encountered while parsing CIF: %s\" % \"\\n\".join(self.warnings))\n",
      "/home/lucasperea/anaconda3/envs/imdea/lib/python3.10/site-packages/pymatgen/io/cif.py:1164: UserWarning: Issues encountered while parsing CIF: Some fractional co-ordinates rounded to ideal values to avoid issues with finite precision.\n",
      "  warnings.warn(\"Issues encountered while parsing CIF: %s\" % \"\\n\".join(self.warnings))\n",
      "/home/lucasperea/anaconda3/envs/imdea/lib/python3.10/site-packages/pymatgen/io/cif.py:1164: UserWarning: Issues encountered while parsing CIF: Some fractional co-ordinates rounded to ideal values to avoid issues with finite precision.\n",
      "  warnings.warn(\"Issues encountered while parsing CIF: %s\" % \"\\n\".join(self.warnings))\n",
      "/home/lucasperea/anaconda3/envs/imdea/lib/python3.10/site-packages/pymatgen/io/cif.py:1164: UserWarning: Issues encountered while parsing CIF: Some fractional co-ordinates rounded to ideal values to avoid issues with finite precision.\n",
      "  warnings.warn(\"Issues encountered while parsing CIF: %s\" % \"\\n\".join(self.warnings))\n",
      "/home/lucasperea/anaconda3/envs/imdea/lib/python3.10/site-packages/pymatgen/io/cif.py:1164: UserWarning: Issues encountered while parsing CIF: Some fractional co-ordinates rounded to ideal values to avoid issues with finite precision.\n",
      "  warnings.warn(\"Issues encountered while parsing CIF: %s\" % \"\\n\".join(self.warnings))\n",
      "/home/lucasperea/anaconda3/envs/imdea/lib/python3.10/site-packages/pymatgen/io/cif.py:1164: UserWarning: Issues encountered while parsing CIF: Some fractional co-ordinates rounded to ideal values to avoid issues with finite precision.\n",
      "  warnings.warn(\"Issues encountered while parsing CIF: %s\" % \"\\n\".join(self.warnings))\n",
      "/home/lucasperea/anaconda3/envs/imdea/lib/python3.10/site-packages/pymatgen/io/cif.py:1164: UserWarning: Issues encountered while parsing CIF: Some fractional co-ordinates rounded to ideal values to avoid issues with finite precision.\n",
      "  warnings.warn(\"Issues encountered while parsing CIF: %s\" % \"\\n\".join(self.warnings))\n"
     ]
    }
   ],
   "source": [
    "with concurrent.futures.ProcessPoolExecutor(max_workers=8) as executor:\n",
    "    output = executor.map(GraphGen, os.listdir('./Nt2Files_MOF/')[:1404])"
   ]
  },
  {
   "cell_type": "code",
   "execution_count": null,
   "id": "b6a983ea",
   "metadata": {},
   "outputs": [],
   "source": [
    "import networkx as nx"
   ]
  },
  {
   "cell_type": "code",
   "execution_count": 1,
   "id": "161cb597",
   "metadata": {},
   "outputs": [
    {
     "ename": "NameError",
     "evalue": "name 'os' is not defined",
     "output_type": "error",
     "traceback": [
      "\u001b[0;31m---------------------------------------------------------------------------\u001b[0m",
      "\u001b[0;31mNameError\u001b[0m                                 Traceback (most recent call last)",
      "\u001b[0;32m/tmp/ipykernel_185086/1593018569.py\u001b[0m in \u001b[0;36m<module>\u001b[0;34m\u001b[0m\n\u001b[0;32m----> 1\u001b[0;31m \u001b[0mlen\u001b[0m\u001b[0;34m(\u001b[0m\u001b[0mos\u001b[0m\u001b[0;34m.\u001b[0m\u001b[0mlistdir\u001b[0m\u001b[0;34m(\u001b[0m\u001b[0;34m'./Nt2Files_MOF/'\u001b[0m\u001b[0;34m)\u001b[0m\u001b[0;34m)\u001b[0m\u001b[0;34m/\u001b[0m\u001b[0;36m4\u001b[0m\u001b[0;34m\u001b[0m\u001b[0;34m\u001b[0m\u001b[0m\n\u001b[0m",
      "\u001b[0;31mNameError\u001b[0m: name 'os' is not defined"
     ]
    }
   ],
   "source": [
    "len(os.listdir('./Nt2Files_MOF/'))/4"
   ]
  },
  {
   "cell_type": "code",
   "execution_count": null,
   "id": "c5ff18e3",
   "metadata": {},
   "outputs": [],
   "source": [
    "for o in output:\n",
    "    nx.write_gpickle(o[1], './Graph/graph_' + o[0] )"
   ]
  },
  {
   "cell_type": "code",
   "execution_count": 120,
   "id": "acd9e64e",
   "metadata": {},
   "outputs": [],
   "source": [
    "g = nx.read_gpickle('./graph_FAKNIR_clean.nt2')"
   ]
  },
  {
   "cell_type": "code",
   "execution_count": 121,
   "id": "d9949714",
   "metadata": {},
   "outputs": [
    {
     "data": {
      "text/plain": [
       "{'coord': array([-7.35962, -6.83218, -7.83652]),\n",
       " 'rad_max_sph': 0.268838,\n",
       " 'pagerank': 20}"
      ]
     },
     "execution_count": 121,
     "metadata": {},
     "output_type": "execute_result"
    }
   ],
   "source": [
    "g.nodes[1]"
   ]
  },
  {
   "cell_type": "code",
   "execution_count": 102,
   "id": "281e2732",
   "metadata": {},
   "outputs": [],
   "source": [
    "for pu in output:\n",
    "    print(pu)"
   ]
  },
  {
   "cell_type": "code",
   "execution_count": 70,
   "id": "42257674",
   "metadata": {},
   "outputs": [
    {
     "data": {
      "text/plain": [
       "{'-1-1-1': 22.29,\n",
       " '-1-10': 22.22,\n",
       " '-1-11': 10.67,\n",
       " '-10-1': 14.95,\n",
       " '-100': 10.14,\n",
       " '-101': 11.73,\n",
       " '-11-1': 11.23,\n",
       " '-110': 4.5,\n",
       " '-111': 12.17,\n",
       " '0-1-1': 17.06,\n",
       " '0-10': 39.75,\n",
       " '0-11': 15.18,\n",
       " '00-1': 14.05}"
      ]
     },
     "execution_count": 70,
     "metadata": {},
     "output_type": "execute_result"
    }
   ],
   "source": [
    "path_dic_1438['DAXHUH01_clean']"
   ]
  },
  {
   "cell_type": "code",
   "execution_count": 67,
   "id": "d621a48f",
   "metadata": {
    "scrolled": true
   },
   "outputs": [
    {
     "name": "stdout",
     "output_type": "stream",
     "text": [
      "{'HOQMIL01_clean': {'-1-1-1': 28.0, '-1-10': 23.68, '-1-11': 47.01, '-10-1': 50.0, '-100': 24.5, '-101': 24.03, '-11-1': 31.35, '-110': 31.5, '-111': 20.65, '0-1-1': 31.66, '0-10': 29.9, '0-11': 33.62, '00-1': 24.76}}\n",
      "{'ADAVAE_clean': {'-1-1-1': 135.11, '-1-10': 86.74, '-1-11': 135.11, '-10-1': 66.64, '-100': 117.09, '-101': 86.79, '-11-1': 79.08, '-110': 66.63, '-111': 135.11, '0-1-1': 86.79, '0-10': 117.09, '0-11': 69.03, '00-1': 117.09}}\n",
      "{'VIQQUJ_clean': {'-1-1-1': 22.38, '-1-10': 28.37, '-1-11': 28.86, '-10-1': 29.48, '-100': 25.46, '-101': 30.46, '-11-1': 22.37, '-110': 27.57, '-111': 28.5, '0-1-1': 23.37, '0-10': 27.28, '0-11': 17.51, '00-1': 10.93}}\n",
      "{'WUTBEU_clean': {'-1-1-1': 180.69, '-1-10': 180.69, '-1-11': 180.69, '-10-1': 287.97, '-100': 239.01, '-101': 287.97, '-11-1': 180.69, '-110': 180.69, '-111': 180.69, '0-1-1': 287.97, '0-10': 239.01, '0-11': 287.97, '00-1': 530.49}}\n",
      "{'DAXHUH01_clean': {'-1-1-1': 88.12, '-1-10': 90.77, '-1-11': 43.32, '-10-1': 67.51, '-100': 65.81, '-101': 52.53, '-11-1': 45.89, '-110': 49.41, '-111': 49.41, '0-1-1': 81.01, '0-10': 153.44, '0-11': 68.83, '00-1': 69.62}}\n",
      "{'RIDCEN_charged': {'-1-1-1': 45.53, '-1-10': 36.24, '-1-11': 45.53, '-10-1': 54.36, '-100': 33.06, '-101': 54.36, '-11-1': 45.53, '-110': 36.24, '-111': 45.53, '0-1-1': 54.36, '0-10': 33.06, '0-11': 54.36, '00-1': 117.96}}\n",
      "{'ADUROI_clean': {'-1-1-1': 538.01, '-1-10': 592.13, '-1-11': 631.55, '-10-1': 565.36, '-100': 416.12, '-101': 303.12, '-11-1': 686.37, '-110': 385.81, '-111': 702.65, '0-1-1': 680.93, '0-10': 1004.54, '0-11': 377.38, '00-1': 397.45}}\n",
      "{'AQUCOG_clean': {'-1-1-1': 165.3, '-1-10': 161.33, '-1-11': 161.08, '-10-1': 192.17, '-100': 188.35, '-101': 181.42, '-11-1': 230.28, '-110': 232.03, '-111': 228.24, '0-1-1': 187.55, '0-10': 188.26, '0-11': 186.91, '00-1': 363.81}}\n",
      "{'SETQEP_clean': {'-1-1-1': 16.26, '-1-10': 14.36, '-1-11': 18.19, '-10-1': 14.45, '-100': 14.61, '-101': 17.64, '-11-1': 21.45, '-110': 19.52, '-111': 22.04, '0-1-1': 24.49, '0-10': 27.26, '0-11': 18.23, '00-1': 45.41}}\n",
      "{'VOCQAF_clean': {'-1-1-1': 20.71, '-1-10': 12.71, '-1-11': 20.32, '-10-1': 21.63, '-100': 15.93, '-101': 9.17, '-11-1': 10.7, '-110': 23.63, '-111': 19.6, '0-1-1': 19.76, '0-10': 10.67, '0-11': 19.44, '00-1': 28.26}}\n"
     ]
    }
   ],
   "source": [
    "for out in output:\n",
    "    print(out)"
   ]
  },
  {
   "cell_type": "code",
   "execution_count": 68,
   "id": "7de72746",
   "metadata": {},
   "outputs": [],
   "source": [
    "%store -r path_dic_1438"
   ]
  },
  {
   "cell_type": "code",
   "execution_count": 66,
   "id": "a094b338",
   "metadata": {},
   "outputs": [
    {
     "ename": "NameError",
     "evalue": "name 'path_dic1438' is not defined",
     "output_type": "error",
     "traceback": [
      "\u001b[0;31m---------------------------------------------------------------------------\u001b[0m",
      "\u001b[0;31mNameError\u001b[0m                                 Traceback (most recent call last)",
      "\u001b[0;32m/tmp/ipykernel_113390/3881254884.py\u001b[0m in \u001b[0;36m<module>\u001b[0;34m\u001b[0m\n\u001b[0;32m----> 1\u001b[0;31m \u001b[0mrest_mof\u001b[0m \u001b[0;34m=\u001b[0m \u001b[0mlist\u001b[0m\u001b[0;34m(\u001b[0m\u001b[0mset\u001b[0m\u001b[0;34m(\u001b[0m\u001b[0mos\u001b[0m\u001b[0;34m.\u001b[0m\u001b[0mlistdir\u001b[0m\u001b[0;34m(\u001b[0m\u001b[0;34m'./Nt2Files_MOF/'\u001b[0m\u001b[0;34m)\u001b[0m\u001b[0;34m)\u001b[0m\u001b[0;34m.\u001b[0m\u001b[0mdifference\u001b[0m\u001b[0;34m(\u001b[0m\u001b[0mset\u001b[0m\u001b[0;34m(\u001b[0m\u001b[0mlist\u001b[0m\u001b[0;34m(\u001b[0m\u001b[0mpath_dic1438\u001b[0m\u001b[0;34m.\u001b[0m\u001b[0mkeys\u001b[0m\u001b[0;34m(\u001b[0m\u001b[0;34m)\u001b[0m\u001b[0;34m)\u001b[0m\u001b[0;34m)\u001b[0m\u001b[0;34m)\u001b[0m\u001b[0;34m)\u001b[0m\u001b[0;34m\u001b[0m\u001b[0;34m\u001b[0m\u001b[0m\n\u001b[0m",
      "\u001b[0;31mNameError\u001b[0m: name 'path_dic1438' is not defined"
     ]
    }
   ],
   "source": [
    "rest_mof = list(set(os.listdir('./Nt2Files_MOF/')).difference(set(list(path_dic_1438.keys()))))"
   ]
  },
  {
   "cell_type": "code",
   "execution_count": null,
   "id": "ee51455b",
   "metadata": {},
   "outputs": [],
   "source": [
    "with concurrent.futures.ProcessPoolExecutor() as executor:\n",
    "    output = executor.map(caudal, rest_mof)"
   ]
  },
  {
   "cell_type": "code",
   "execution_count": null,
   "id": "73e3ff94",
   "metadata": {},
   "outputs": [],
   "source": []
  },
  {
   "cell_type": "code",
   "execution_count": null,
   "id": "c1aaff94",
   "metadata": {},
   "outputs": [],
   "source": []
  },
  {
   "cell_type": "code",
   "execution_count": null,
   "id": "f5a6dae9",
   "metadata": {},
   "outputs": [],
   "source": []
  },
  {
   "cell_type": "code",
   "execution_count": null,
   "id": "bc0f9d7a",
   "metadata": {},
   "outputs": [],
   "source": []
  },
  {
   "cell_type": "code",
   "execution_count": null,
   "id": "6be4a97a",
   "metadata": {},
   "outputs": [],
   "source": []
  },
  {
   "cell_type": "code",
   "execution_count": null,
   "id": "fc2c8b3f",
   "metadata": {},
   "outputs": [],
   "source": []
  }
 ],
 "metadata": {
  "kernelspec": {
   "display_name": "Python 3 (ipykernel)",
   "language": "python",
   "name": "python3"
  },
  "language_info": {
   "codemirror_mode": {
    "name": "ipython",
    "version": 3
   },
   "file_extension": ".py",
   "mimetype": "text/x-python",
   "name": "python",
   "nbconvert_exporter": "python",
   "pygments_lexer": "ipython3",
   "version": "3.10.1"
  }
 },
 "nbformat": 4,
 "nbformat_minor": 5
}

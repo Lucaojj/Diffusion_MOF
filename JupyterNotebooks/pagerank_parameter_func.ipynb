{
 "cells": [
  {
   "cell_type": "code",
   "execution_count": 1,
   "id": "1242f1fe",
   "metadata": {},
   "outputs": [],
   "source": [
    "def PageRankParameter(final):\n",
    "\n",
    "    # We calculate the neighbors for every node in the graph\n",
    "    neigh_dic = {}\n",
    "    for n, nbrs in final.adj.items():\n",
    "        neigh = []\n",
    "        for nbr, eattr in nbrs.items():\n",
    "            neigh.append(nbr)\n",
    "\n",
    "\n",
    "        neigh_dic[str(n)] = neigh\n",
    "\n",
    "\n",
    "    # For every node we calculate the sum of the square radius of their edges\n",
    "    sum_radius = {}\n",
    "    for node in final.nodes:\n",
    "\n",
    "        sum_edges = 0\n",
    "        for nei in neigh_dic[str(node)]:\n",
    "\n",
    "            score = final[node][nei]['rad_max_sph']\n",
    "            sum_edges += score**2\n",
    "        sum_radius[str(node)] = sum_edges\n",
    "\n",
    "    #  conexion is a dictionary that saves information of the weights that every edge has in \n",
    "    # relationship with the total number of edges in the node.\n",
    "    # Every edge has a radius as attribute so we are using the proportion of the square of the radius divide by\n",
    "    # the sum of the square radius in the node\n",
    "\n",
    "    flow_coef = {}\n",
    "    \n",
    "    for node in final.nodes:\n",
    "\n",
    "        sub = {}\n",
    "        for nei in neigh_dic[str(node)]:\n",
    "            radius_node = final[node][nei]['rad_max_sph']\n",
    "            all_radius = sum_radius[str(nei)] \n",
    "            sub[str(nei)] = radius_node**2/all_radius\n",
    "        flow_coef[str(node)] = sub\n",
    "    return neigh_dic, flow_coef "
   ]
  },
  {
   "cell_type": "code",
   "execution_count": null,
   "id": "21a7a026",
   "metadata": {},
   "outputs": [],
   "source": []
  }
 ],
 "metadata": {
  "kernelspec": {
   "display_name": "Python 3 (ipykernel)",
   "language": "python",
   "name": "python3"
  },
  "language_info": {
   "codemirror_mode": {
    "name": "ipython",
    "version": 3
   },
   "file_extension": ".py",
   "mimetype": "text/x-python",
   "name": "python",
   "nbconvert_exporter": "python",
   "pygments_lexer": "ipython3",
   "version": "3.10.1"
  }
 },
 "nbformat": 4,
 "nbformat_minor": 5
}

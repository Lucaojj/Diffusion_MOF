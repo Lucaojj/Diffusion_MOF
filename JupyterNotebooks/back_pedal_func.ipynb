{
 "cells": [
  {
   "cell_type": "code",
   "execution_count": null,
   "id": "1ed8e4a3",
   "metadata": {},
   "outputs": [],
   "source": [
    "def backpedal(start_vertex, target, searchResult):\n",
    "\n",
    "    node = target\n",
    "\n",
    "    backpath = [node]\n",
    "\n",
    "    path = []\n",
    "\n",
    "    while node != start_vertex:\n",
    "\n",
    "        backpath.append(searchResult[node])\n",
    "\n",
    "        node = searchResult[node]\n",
    "\n",
    "    for i in range(len(backpath)):\n",
    "\n",
    "        path.append(backpath[-i - 1])\n",
    "\n",
    "    return path "
   ]
  }
 ],
 "metadata": {
  "kernelspec": {
   "display_name": "Python 3 (ipykernel)",
   "language": "python",
   "name": "python3"
  },
  "language_info": {
   "codemirror_mode": {
    "name": "ipython",
    "version": 3
   },
   "file_extension": ".py",
   "mimetype": "text/x-python",
   "name": "python",
   "nbconvert_exporter": "python",
   "pygments_lexer": "ipython3",
   "version": "3.10.1"
  }
 },
 "nbformat": 4,
 "nbformat_minor": 5
}

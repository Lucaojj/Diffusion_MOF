{
 "cells": [
  {
   "cell_type": "code",
   "execution_count": null,
   "id": "c2294e20",
   "metadata": {},
   "outputs": [],
   "source": [
    "def TransfMatrix(vector_values_latt):\n",
    "    import numpy as np\n",
    "    a,b,c,d,e,g,l,m,n = vector_values_latt\n",
    "    # Matrix to change the orthogonal base vector to the base vector of the unit cell\n",
    "\n",
    "    A = np.array([[a,b,c],[d,e,g], [l,m,n]]).transpose()\n",
    "    B1 = np.array([1, 0, 0])\n",
    "    B2 = np.array([0, 1, 0])\n",
    "    B3 = np.array([0, 0, 1])\n",
    "    X = np.array([np.linalg.inv(A).dot(B1),np.linalg.inv(A).dot(B2),np.linalg.inv(A).dot(B3)])\n",
    "    Y = X.transpose()\n",
    "\n",
    "    # Matrix to change the base vector of the unit cell for the orthogonal base vector\n",
    "    A1 = np.array([[1,0,0], [0,1,0], [0,0,1]]).transpose()\n",
    "    B4 = np.array([a,b,c])#*3\n",
    "    B5 = np.array([d,e,g])#*3\n",
    "    B6 = np.array([l,m,n])#*3\n",
    "    X1 = np.array([np.linalg.inv(A1).dot(B4),np.linalg.inv(A1).dot(B5),np.linalg.inv(A1).dot(B6)])\n",
    "    Y1 = X1.transpose()\n",
    "\n",
    "    return Y, Y1"
   ]
  }
 ],
 "metadata": {
  "kernelspec": {
   "display_name": "Python 3 (ipykernel)",
   "language": "python",
   "name": "python3"
  },
  "language_info": {
   "codemirror_mode": {
    "name": "ipython",
    "version": 3
   },
   "file_extension": ".py",
   "mimetype": "text/x-python",
   "name": "python",
   "nbconvert_exporter": "python",
   "pygments_lexer": "ipython3",
   "version": "3.10.1"
  }
 },
 "nbformat": 4,
 "nbformat_minor": 5
}

{
 "cells": [
  {
   "cell_type": "code",
   "execution_count": null,
   "id": "a5c68dc2",
   "metadata": {},
   "outputs": [],
   "source": [
    "def distance(final, multi_box, Y, Y1):\n",
    "    # Function for the calculation of distances between axes\n",
    "    import numpy as np\n",
    "    dim = 3\n",
    "    real_box = np.array([multi_box,multi_box,multi_box])\n",
    "    \n",
    "    for edge in final.edges:\n",
    "        p1 = Y.dot(final.nodes[edge[0]]['coord'])\n",
    "        p2 = Y.dot(final.nodes[edge[1]]['coord'])\n",
    "    #     print(p1, p2)\n",
    "        dist_3d = np.zeros((dim))\n",
    "        for j in range(dim):\n",
    "            dist = abs(p2[j]-p1[j])\n",
    "            if dist > real_box[j] * 0.5:\n",
    "                dist = abs(real_box[j] - dist)\n",
    "            dist_3d[j] = dist\n",
    "        \n",
    "        final[edge[0]][edge[1]]['distance'] = np.sqrt(np.sum(np.power(Y1.dot(dist_3d), 2)))\n",
    "             #- (final.nodes[edge[0]]['rad_max_sph'] + final.nodes[edge[1]]['rad_max_sph'])\n",
    "    return final"
   ]
  }
 ],
 "metadata": {
  "kernelspec": {
   "display_name": "Python 3 (ipykernel)",
   "language": "python",
   "name": "python3"
  },
  "language_info": {
   "codemirror_mode": {
    "name": "ipython",
    "version": 3
   },
   "file_extension": ".py",
   "mimetype": "text/x-python",
   "name": "python",
   "nbconvert_exporter": "python",
   "pygments_lexer": "ipython3",
   "version": "3.10.1"
  }
 },
 "nbformat": 4,
 "nbformat_minor": 5
}
